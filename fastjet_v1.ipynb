{
 "cells": [
  {
   "cell_type": "code",
   "execution_count": 1,
   "metadata": {},
   "outputs": [],
   "source": [
    "import sys\n",
    "sys.path.append('/home/waleed/fastjet-install/lib/python3.6/site-packages')"
   ]
  },
  {
   "cell_type": "code",
   "execution_count": 2,
   "metadata": {},
   "outputs": [],
   "source": [
    "import h5py\n",
    "import torch\n",
    "import pandas as pd\n",
    "import numpy as np\n",
    "import torch.nn as nn\n",
    "import torch.nn.functional as F\n",
    "import matplotlib.pyplot as plt\n",
    "import fastjet as fj\n",
    "from tqdm import tqdm\n",
    "from torch.utils.data import Dataset, DataLoader"
   ]
  },
  {
   "cell_type": "code",
   "execution_count": 3,
   "metadata": {},
   "outputs": [],
   "source": [
    "# Load files\n",
    "fn_qcd  = '/home/waleed/Desktop/LHC-Olympics/events_LHCO2020_backgroundMC_Pythia.h5'\n",
    "fn_sig  = '/home/waleed/Desktop/LHC-Olympics/events_anomalydetection.h5'\n",
    "fn_data = '/home/waleed/Desktop/LHC-Olympics/events_LHCO2020_BlackBox1.h5' "
   ]
  },
  {
   "cell_type": "code",
   "execution_count": 14,
   "metadata": {},
   "outputs": [],
   "source": [
    "def read_file(path='', nevts=5e3):\n",
    "    f = pd.read_hdf(path,stop=nevts)\n",
    "    \n",
    "    # change naming convention of the coulmns\n",
    "    #old = list(f.columns)\n",
    "    #new = ['pt','eta','phi']\n",
    "    #new = [new]*700\n",
    "    #new = [item for sublist in new for item in sublist]\n",
    "    #dictionary = dict(zip(old, new))\n",
    "    #df = f.rename(dictionary, axis=1)\n",
    "    \n",
    "    return f\n",
    "\n",
    "def run(data,n_events=1000):\n",
    "    \n",
    "    out  = []\n",
    "    Jets = []\n",
    "    \n",
    "    # Loop over events\n",
    "    for ievt in range(n_events):\n",
    "\n",
    "        # Build a list of all particles\n",
    "        pjs = []\n",
    "        for i in range(data.shape[1]):\n",
    "            pj = fj.PseudoJet()\n",
    "            pj.reset_PtYPhiM(data[ievt,i,0],data[ievt,i,1],data[ievt,i,2],0)\n",
    "            pjs.append(pj)\n",
    "\n",
    "        # run jet clustering with AntiKt, R=1.0\n",
    "        R = 1.0\n",
    "        jet_def = fj.JetDefinition(fj.antikt_algorithm, R)\n",
    "\n",
    "        # Save the two leading jets\n",
    "        jets = jet_def(pjs)\n",
    "        jets = [j for j in jets if j.pt()>30.]\n",
    "        Jets.append(jets)\n",
    "        out.append([jets[0],jets[1]])\n",
    "                \n",
    "    return out, Jets\n",
    "\n",
    "def select_sgn(df=None):\n",
    "    X, y = df.iloc[:,0:-1], df.iloc[:,-1]\n",
    "    X['labels']=y\n",
    "    X = X.loc[X.labels>0.0]\n",
    "    return X\n",
    "\n",
    "def preprocess(df=None):\n",
    "    df = np.array(df)\n",
    "    hadrons = []\n",
    "    for item in tqdm(df):\n",
    "        l = np.array(np.split(item, 700))\n",
    "        hadrons.append(l)\n",
    "    \n",
    "    hadrons = np.array(hadrons)\n",
    "    return hadrons"
   ]
  },
  {
   "cell_type": "code",
   "execution_count": 5,
   "metadata": {},
   "outputs": [],
   "source": [
    "qcd  = read_file(fn_qcd)\n",
    "data = read_file(fn_data)"
   ]
  },
  {
   "cell_type": "code",
   "execution_count": 6,
   "metadata": {},
   "outputs": [],
   "source": [
    "wpr  = read_file(fn_sig,1e5)"
   ]
  },
  {
   "cell_type": "code",
   "execution_count": 7,
   "metadata": {},
   "outputs": [
    {
     "name": "stdout",
     "output_type": "stream",
     "text": [
      "(5000, 2100) (100000, 2101) (5000, 2100)\n"
     ]
    }
   ],
   "source": [
    "print (qcd.shape, wpr.shape, data.shape)"
   ]
  },
  {
   "cell_type": "code",
   "execution_count": 8,
   "metadata": {},
   "outputs": [],
   "source": [
    "wpr = select_sgn(wpr)"
   ]
  },
  {
   "cell_type": "code",
   "execution_count": 9,
   "metadata": {},
   "outputs": [],
   "source": [
    "wpr = wpr.iloc[:,0:-1]"
   ]
  },
  {
   "cell_type": "code",
   "execution_count": 19,
   "metadata": {},
   "outputs": [
    {
     "data": {
      "text/plain": [
       "(9059, 700, 3)"
      ]
     },
     "execution_count": 19,
     "metadata": {},
     "output_type": "execute_result"
    }
   ],
   "source": [
    "wpr.shape"
   ]
  },
  {
   "cell_type": "code",
   "execution_count": 10,
   "metadata": {},
   "outputs": [
    {
     "name": "stderr",
     "output_type": "stream",
     "text": [
      "100%|██████████| 5000/5000 [00:05<00:00, 961.35it/s]\n"
     ]
    }
   ],
   "source": [
    "qcd = preprocess(qcd)"
   ]
  },
  {
   "cell_type": "code",
   "execution_count": 11,
   "metadata": {},
   "outputs": [
    {
     "name": "stderr",
     "output_type": "stream",
     "text": [
      "100%|██████████| 9059/9059 [00:09<00:00, 945.67it/s]\n"
     ]
    }
   ],
   "source": [
    "wpr = preprocess(wpr)"
   ]
  },
  {
   "cell_type": "code",
   "execution_count": 12,
   "metadata": {},
   "outputs": [
    {
     "name": "stderr",
     "output_type": "stream",
     "text": [
      "100%|██████████| 5000/5000 [00:05<00:00, 986.60it/s] \n"
     ]
    }
   ],
   "source": [
    "data = preprocess(data)"
   ]
  },
  {
   "cell_type": "code",
   "execution_count": 15,
   "metadata": {},
   "outputs": [],
   "source": [
    "# Actually run\n",
    "# (this may take a few minutes)\n",
    "out_qcd, jets_qcd = run(qcd)"
   ]
  },
  {
   "cell_type": "code",
   "execution_count": 58,
   "metadata": {},
   "outputs": [],
   "source": [
    "out_sig, jets_sig = run(wpr,n_events=1000)"
   ]
  },
  {
   "cell_type": "code",
   "execution_count": 17,
   "metadata": {},
   "outputs": [],
   "source": [
    "out_data, jets_data = run(data)"
   ]
  },
  {
   "cell_type": "code",
   "execution_count": 59,
   "metadata": {},
   "outputs": [
    {
     "data": {
      "text/plain": [
       "<matplotlib.legend.Legend at 0x7fcf48cd2ba8>"
      ]
     },
     "execution_count": 59,
     "metadata": {},
     "output_type": "execute_result"
    },
    {
     "data": {
      "image/png": "[encoded data removed]",
      "text/plain": [
       "<Figure size 432x288 with 1 Axes>"
      ]
     },
     "metadata": {
      "needs_background": "light"
     },
     "output_type": "display_data"
    }
   ],
   "source": [
    "# Extract the leading dijet mass for signal..\n",
    "dijet_m_sig = []\n",
    "for evt in out_sig:\n",
    "    dijet_m_sig.append( (evt[0]+evt[1]).m())\n",
    "\n",
    "# ..and background\n",
    "dijet_m_qcd = []\n",
    "for evt in out_qcd:\n",
    "    dijet_m_qcd.append( (evt[0]+evt[1]).m())\n",
    "    \n",
    "# ..and data\n",
    "dijet_m_data = []\n",
    "for evt in out_data:\n",
    "    dijet_m_data.append( (evt[0]+evt[1]).m())    \n",
    "\n",
    "# and plot\n",
    "_ = plt.hist(np.array(dijet_m_sig)*1e-3,label='Signal',bins=60,histtype='step')\n",
    "_ = plt.hist(np.array(dijet_m_qcd)*1e-3,label='QCD',bins=60,histtype='step')\n",
    "_ = plt.hist(np.array(dijet_m_data)*1e-3,label='Data',bins=60,histtype='step')\n",
    "\n",
    "plt.legend(loc='best')"
   ]
  },
  {
   "cell_type": "code",
   "execution_count": 23,
   "metadata": {},
   "outputs": [],
   "source": [
    "import itertools"
   ]
  },
  {
   "cell_type": "code",
   "execution_count": 60,
   "metadata": {},
   "outputs": [],
   "source": [
    "Jets_qcd  = list(itertools.chain(*jets_qcd))\n",
    "Jets_sig  = list(itertools.chain(*jets_sig))\n",
    "Jets_data = list(itertools.chain(*jets_data))"
   ]
  },
  {
   "cell_type": "code",
   "execution_count": 81,
   "metadata": {},
   "outputs": [
    {
     "name": "stderr",
     "output_type": "stream",
     "text": [
      "100%|██████████| 3542/3542 [00:00<00:00, 121607.86it/s]\n",
      "100%|██████████| 2857/2857 [00:00<00:00, 105907.59it/s]\n",
      "100%|██████████| 3761/3761 [00:00<00:00, 145381.61it/s]\n"
     ]
    }
   ],
   "source": [
    "phi_qcd = []\n",
    "theta_qcd = []\n",
    "ene_qcd = []\n",
    "pt_qcd = []\n",
    "px_qcd = []\n",
    "py_qcd = []\n",
    "pz_qcd = []\n",
    "eta_qcd = []\n",
    "rap_qcd = []\n",
    "mas_qcd = []\n",
    "prd_qcd = []\n",
    "\n",
    "phi_sig = []\n",
    "theta_sig = []\n",
    "ene_sig = []\n",
    "pt_sig = []\n",
    "px_sig = []\n",
    "py_sig = []\n",
    "pz_sig = []\n",
    "eta_sig = []\n",
    "rap_sig = []\n",
    "mas_sig = []\n",
    "prd_sig = []\n",
    "\n",
    "phi_data = []\n",
    "theta_data = []\n",
    "ene_data = []\n",
    "pt_data = []\n",
    "px_data = []\n",
    "py_data = []\n",
    "pz_data = []\n",
    "eta_data = []\n",
    "rap_data = []\n",
    "mas_data = []\n",
    "prd_data = []\n",
    "\n",
    "for jet in tqdm(Jets_qcd):\n",
    "    phi_qcd.append(jet.phi())\n",
    "    theta_qcd.append(jet.theta())\n",
    "    ene_qcd.append(jet.e())\n",
    "    pt_qcd.append(jet.pt())\n",
    "    px_qcd.append(jet.px())\n",
    "    py_qcd.append(jet.py())\n",
    "    pz_qcd.append(jet.pz())\n",
    "    eta_qcd.append(jet.eta())\n",
    "    rap_qcd.append(jet.rapidity())\n",
    "    mas_qcd.append(jet.m())\n",
    "    prd_qcd.append(jet.pseudorapidity())\n",
    "    \n",
    "    \n",
    "for jet in tqdm(Jets_sig):\n",
    "    phi_sig.append(jet.phi())\n",
    "    theta_sig.append(jet.theta())\n",
    "    ene_sig.append(jet.e())\n",
    "    pt_sig.append(jet.pt())\n",
    "    px_sig.append(jet.px())\n",
    "    py_sig.append(jet.py())\n",
    "    pz_sig.append(jet.pz())\n",
    "    eta_sig.append(jet.eta())\n",
    "    rap_sig.append(jet.rapidity())\n",
    "    mas_sig.append(jet.m())\n",
    "    prd_sig.append(jet.pseudorapidity())\n",
    "    \n",
    "    \n",
    "for jet in tqdm(Jets_data):\n",
    "    phi_data.append(jet.phi())\n",
    "    theta_data.append(jet.theta())\n",
    "    ene_data.append(jet.e())\n",
    "    pt_data.append(jet.pt())\n",
    "    px_data.append(jet.px())\n",
    "    py_data.append(jet.py())\n",
    "    pz_data.append(jet.pz())\n",
    "    eta_data.append(jet.eta())\n",
    "    rap_data.append(jet.rapidity())\n",
    "    mas_data.append(jet.m())\n",
    "    prd_data.append(jet.pseudorapidity())"
   ]
  },
  {
   "cell_type": "code",
   "execution_count": 62,
   "metadata": {},
   "outputs": [
    {
     "data": {
      "text/plain": [
       "<matplotlib.legend.Legend at 0x7fcf48679a58>"
      ]
     },
     "execution_count": 62,
     "metadata": {},
     "output_type": "execute_result"
    },
    {
     "data": {
      "image/png": "[encoded data removed]",
      "text/plain": [
       "<Figure size 432x288 with 1 Axes>"
      ]
     },
     "metadata": {
      "needs_background": "light"
     },
     "output_type": "display_data"
    }
   ],
   "source": [
    "_ = plt.hist(phi_sig,label='Signal',bins=60,histtype='step')\n",
    "_ = plt.hist(phi_qcd,label='QCD',bins=60,histtype='step')\n",
    "_ = plt.hist(phi_data,label='Data',bins=60,histtype='step')\n",
    "\n",
    "plt.legend(loc='best')"
   ]
  },
  {
   "cell_type": "code",
   "execution_count": 63,
   "metadata": {},
   "outputs": [
    {
     "data": {
      "text/plain": [
       "<matplotlib.legend.Legend at 0x7fcf4a412a90>"
      ]
     },
     "execution_count": 63,
     "metadata": {},
     "output_type": "execute_result"
    },
    {
     "data": {
      "image/png": "[encoded data removed]",
      "text/plain": [
       "<Figure size 432x288 with 1 Axes>"
      ]
     },
     "metadata": {
      "needs_background": "light"
     },
     "output_type": "display_data"
    }
   ],
   "source": [
    "_ = plt.hist(theta_sig,label='Signal',bins=60,histtype='step')\n",
    "_ = plt.hist(theta_qcd,label='QCD',bins=60,histtype='step')\n",
    "_ = plt.hist(theta_data,label='Data',bins=60,histtype='step')\n",
    "\n",
    "plt.legend(loc='best')"
   ]
  },
  {
   "cell_type": "code",
   "execution_count": 64,
   "metadata": {},
   "outputs": [
    {
     "data": {
      "text/plain": [
       "<matplotlib.legend.Legend at 0x7fcf4a3cbf60>"
      ]
     },
     "execution_count": 64,
     "metadata": {},
     "output_type": "execute_result"
    },
    {
     "data": {
      "image/png": "[encoded data removed]",
      "text/plain": [
       "<Figure size 432x288 with 1 Axes>"
      ]
     },
     "metadata": {
      "needs_background": "light"
     },
     "output_type": "display_data"
    }
   ],
   "source": [
    "_ = plt.hist(ene_sig,label='Signal',bins=60,histtype='step')\n",
    "_ = plt.hist(ene_qcd,label='QCD',bins=60,histtype='step')\n",
    "_ = plt.hist(ene_data,label='Data',bins=60,histtype='step')\n",
    "\n",
    "plt.legend(loc='best')"
   ]
  },
  {
   "cell_type": "code",
   "execution_count": 65,
   "metadata": {},
   "outputs": [
    {
     "data": {
      "text/plain": [
       "<matplotlib.legend.Legend at 0x7fcf4a143cf8>"
      ]
     },
     "execution_count": 65,
     "metadata": {},
     "output_type": "execute_result"
    },
    {
     "data": {
      "image/png": "[encoded data removed]",
      "text/plain": [
       "<Figure size 432x288 with 1 Axes>"
      ]
     },
     "metadata": {
      "needs_background": "light"
     },
     "output_type": "display_data"
    }
   ],
   "source": [
    "_ = plt.hist(pt_sig,label='Signal',bins=60,histtype='step')\n",
    "_ = plt.hist(pt_qcd,label='QCD',bins=60,histtype='step')\n",
    "_ = plt.hist(pt_data,label='Data',bins=60,histtype='step')\n",
    "\n",
    "plt.legend(loc='best')"
   ]
  },
  {
   "cell_type": "code",
   "execution_count": 66,
   "metadata": {},
   "outputs": [
    {
     "data": {
      "text/plain": [
       "<matplotlib.legend.Legend at 0x7fcf49f67d30>"
      ]
     },
     "execution_count": 66,
     "metadata": {},
     "output_type": "execute_result"
    },
    {
     "data": {
      "image/png": "[encoded data removed]",
      "text/plain": [
       "<Figure size 432x288 with 1 Axes>"
      ]
     },
     "metadata": {
      "needs_background": "light"
     },
     "output_type": "display_data"
    }
   ],
   "source": [
    "_ = plt.hist(px_sig,label='Signal',bins=60,histtype='step')\n",
    "_ = plt.hist(px_qcd,label='QCD',bins=60,histtype='step')\n",
    "_ = plt.hist(px_data,label='Data',bins=60,histtype='step')\n",
    "\n",
    "plt.legend(loc='best')"
   ]
  },
  {
   "cell_type": "code",
   "execution_count": 67,
   "metadata": {},
   "outputs": [
    {
     "data": {
      "text/plain": [
       "<matplotlib.legend.Legend at 0x7fcf49ddba58>"
      ]
     },
     "execution_count": 67,
     "metadata": {},
     "output_type": "execute_result"
    },
    {
     "data": {
      "image/png": "[encoded data removed]",
      "text/plain": [
       "<Figure size 432x288 with 1 Axes>"
      ]
     },
     "metadata": {
      "needs_background": "light"
     },
     "output_type": "display_data"
    }
   ],
   "source": [
    "_ = plt.hist(py_sig,label='Signal',bins=60,histtype='step')\n",
    "_ = plt.hist(py_qcd,label='QCD',bins=60,histtype='step')\n",
    "_ = plt.hist(py_data,label='Data',bins=60,histtype='step')\n",
    "\n",
    "plt.legend(loc='best')"
   ]
  },
  {
   "cell_type": "code",
   "execution_count": 68,
   "metadata": {},
   "outputs": [
    {
     "data": {
      "text/plain": [
       "<matplotlib.legend.Legend at 0x7fcf49c22ac8>"
      ]
     },
     "execution_count": 68,
     "metadata": {},
     "output_type": "execute_result"
    },
    {
     "data": {
      "image/png": "[encoded data removed]",
      "text/plain": [
       "<Figure size 432x288 with 1 Axes>"
      ]
     },
     "metadata": {
      "needs_background": "light"
     },
     "output_type": "display_data"
    }
   ],
   "source": [
    "_ = plt.hist(pz_sig,label='Signal',bins=60,histtype='step')\n",
    "_ = plt.hist(pz_qcd,label='QCD',bins=60,histtype='step')\n",
    "_ = plt.hist(pz_data,label='Data',bins=60,histtype='step')\n",
    "\n",
    "plt.legend(loc='best')"
   ]
  },
  {
   "cell_type": "code",
   "execution_count": 69,
   "metadata": {},
   "outputs": [
    {
     "data": {
      "text/plain": [
       "<matplotlib.legend.Legend at 0x7fcf4a0e6f98>"
      ]
     },
     "execution_count": 69,
     "metadata": {},
     "output_type": "execute_result"
    },
    {
     "data": {
      "image/png": "[encoded data removed]",
      "text/plain": [
       "<Figure size 432x288 with 1 Axes>"
      ]
     },
     "metadata": {
      "needs_background": "light"
     },
     "output_type": "display_data"
    }
   ],
   "source": [
    "_ = plt.hist(eta_sig,label='Signal',bins=60,histtype='step')\n",
    "_ = plt.hist(eta_qcd,label='QCD',bins=60,histtype='step')\n",
    "_ = plt.hist(eta_data,label='Data',bins=60,histtype='step')\n",
    "\n",
    "plt.legend(loc='best')"
   ]
  },
  {
   "cell_type": "code",
   "execution_count": 70,
   "metadata": {},
   "outputs": [
    {
     "data": {
      "text/plain": [
       "<matplotlib.legend.Legend at 0x7fcf4a4e1080>"
      ]
     },
     "execution_count": 70,
     "metadata": {},
     "output_type": "execute_result"
    },
    {
     "data": {
      "image/png": "[encoded data removed]",
      "text/plain": [
       "<Figure size 432x288 with 1 Axes>"
      ]
     },
     "metadata": {
      "needs_background": "light"
     },
     "output_type": "display_data"
    }
   ],
   "source": [
    "_ = plt.hist(rap_sig,label='Signal',bins=60,histtype='step')\n",
    "_ = plt.hist(rap_qcd,label='QCD',bins=60,histtype='step')\n",
    "_ = plt.hist(rap_data,label='Data',bins=60,histtype='step')\n",
    "\n",
    "plt.legend(loc='best')"
   ]
  },
  {
   "cell_type": "code",
   "execution_count": 82,
   "metadata": {},
   "outputs": [
    {
     "data": {
      "text/plain": [
       "<matplotlib.legend.Legend at 0x7fcf4cc3ccf8>"
      ]
     },
     "execution_count": 82,
     "metadata": {},
     "output_type": "execute_result"
    },
    {
     "data": {
      "image/png": "[encoded data removed]",
      "text/plain": [
       "<Figure size 432x288 with 1 Axes>"
      ]
     },
     "metadata": {
      "needs_background": "light"
     },
     "output_type": "display_data"
    }
   ],
   "source": [
    "_ = plt.hist(prd_sig,label='Signal',bins=60,histtype='step')\n",
    "_ = plt.hist(prd_qcd,label='QCD',bins=60,histtype='step')\n",
    "_ = plt.hist(prd_data,label='Data',bins=60,histtype='step')\n",
    "\n",
    "plt.legend(loc='best')"
   ]
  },
  {
   "cell_type": "code",
   "execution_count": 74,
   "metadata": {},
   "outputs": [
    {
     "data": {
      "text/plain": [
       "<matplotlib.legend.Legend at 0x7fcf4c7a7470>"
      ]
     },
     "execution_count": 74,
     "metadata": {},
     "output_type": "execute_result"
    },
    {
     "data": {
      "image/png": "[encoded data removed]",
      "text/plain": [
       "<Figure size 432x288 with 1 Axes>"
      ]
     },
     "metadata": {
      "needs_background": "light"
     },
     "output_type": "display_data"
    }
   ],
   "source": [
    "_ = plt.hist(mas_sig,label='Signal',bins=60,histtype='step')\n",
    "_ = plt.hist(mas_qcd,label='QCD',bins=60,histtype='step')\n",
    "_ = plt.hist(mas_data,label='Data',bins=60,histtype='step')\n",
    "\n",
    "plt.legend(loc='best')"
   ]
  },
  {
   "cell_type": "code",
   "execution_count": null,
   "metadata": {},
   "outputs": [],
   "source": []
  }
 ],
 "metadata": {
  "kernelspec": {
   "display_name": "Python 3",
   "language": "python",
   "name": "python3"
  },
  "language_info": {
   "codemirror_mode": {
    "name": "ipython",
    "version": 3
   },
   "file_extension": ".py",
   "mimetype": "text/x-python",
   "name": "python",
   "nbconvert_exporter": "python",
   "pygments_lexer": "ipython3",
   "version": "3.6.7"
  }
 },
 "nbformat": 4,
 "nbformat_minor": 2
}

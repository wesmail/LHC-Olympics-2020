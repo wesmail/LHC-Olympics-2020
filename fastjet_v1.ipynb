{
 "cells": [
  {
   "cell_type": "code",
   "execution_count": 1,
   "metadata": {},
   "outputs": [],
   "source": [
    "import sys\n",
    "sys.path.append('/home/waleed/fastjet-install/lib/python3.6/site-packages')"
   ]
  },
  {
   "cell_type": "code",
   "execution_count": 2,
   "metadata": {},
   "outputs": [],
   "source": [
    "import h5py\n",
    "import torch\n",
    "import pandas as pd\n",
    "import numpy as np\n",
    "import torch.nn as nn\n",
    "import torch.nn.functional as F\n",
    "import matplotlib.pyplot as plt\n",
    "import fastjet as fj\n",
    "from tqdm import tqdm\n",
    "from torch.utils.data import Dataset, DataLoader"
   ]
  },
  {
   "cell_type": "code",
   "execution_count": 3,
   "metadata": {},
   "outputs": [],
   "source": [
    "# Load files\n",
    "fn_qcd  = '/home/waleed/Desktop/LHC-Olympics/events_LHCO2020_backgroundMC_Pythia.h5'\n",
    "fn_sig  = '/home/waleed/Desktop/LHC-Olympics/events_anomalydetection.h5'\n",
    "fn_data = '/home/waleed/Desktop/LHC-Olympics/events_LHCO2020_BlackBox1.h5' "
   ]
  },
  {
   "cell_type": "code",
   "execution_count": 4,
   "metadata": {},
   "outputs": [],
   "source": [
    "def read_file(path='', nevts=1e4):\n",
    "    f = pd.read_hdf(path,stop=nevts)\n",
    "    \n",
    "    # change naming convention of the coulmns\n",
    "    #old = list(f.columns)\n",
    "    #new = ['pt','eta','phi']\n",
    "    #new = [new]*700\n",
    "    #new = [item for sublist in new for item in sublist]\n",
    "    #dictionary = dict(zip(old, new))\n",
    "    #df = f.rename(dictionary, axis=1)\n",
    "    \n",
    "    return f\n",
    "\n",
    "def run(data,n_events=1000):\n",
    "    \n",
    "    out = []\n",
    "    \n",
    "    # Loop over events\n",
    "    for ievt in range(n_events):\n",
    "\n",
    "        # Build a list of all particles\n",
    "        pjs = []\n",
    "        for i in range(data.shape[1]):\n",
    "            pj = fj.PseudoJet()\n",
    "            pj.reset_PtYPhiM(data[ievt,i,0],data[ievt,i,1],data[ievt,i,2],0)\n",
    "            pjs.append(pj)\n",
    "\n",
    "        # run jet clustering with AntiKt, R=1.0\n",
    "        R = 1.0\n",
    "        jet_def = fj.JetDefinition(fj.antikt_algorithm, R)\n",
    "\n",
    "        # Save the two leading jets\n",
    "        jets = jet_def(pjs)\n",
    "        jets = [j for j in jets if j.pt()>30.]\n",
    "        out.append([jets[0],jets[1]])\n",
    "                \n",
    "    return out\n",
    "\n",
    "def select_sgn(df=None):\n",
    "    X, y = df.iloc[:,0:-1], df.iloc[:,-1]\n",
    "    X['labels']=y\n",
    "    X = X.loc[X.labels>0.0]\n",
    "    return X\n",
    "\n",
    "def preprocess(df=None):\n",
    "    df = np.array(df)\n",
    "    hadrons = []\n",
    "    for item in tqdm(df):\n",
    "        l = np.array(np.split(item, 700))\n",
    "        hadrons.append(l)\n",
    "    \n",
    "    hadrons = np.array(hadrons)\n",
    "    return hadrons"
   ]
  },
  {
   "cell_type": "code",
   "execution_count": 5,
   "metadata": {},
   "outputs": [],
   "source": [
    "qcd  = read_file(fn_qcd)\n",
    "data = read_file(fn_data)"
   ]
  },
  {
   "cell_type": "code",
   "execution_count": 6,
   "metadata": {},
   "outputs": [],
   "source": [
    "wpr  = read_file(fn_sig,0.5e5)"
   ]
  },
  {
   "cell_type": "code",
   "execution_count": 7,
   "metadata": {},
   "outputs": [
    {
     "name": "stdout",
     "output_type": "stream",
     "text": [
      "(10000, 2100) (50000, 2101) (10000, 2100)\n"
     ]
    }
   ],
   "source": [
    "print (qcd.shape, wpr.shape, data.shape)"
   ]
  },
  {
   "cell_type": "code",
   "execution_count": 8,
   "metadata": {},
   "outputs": [],
   "source": [
    "wpr = select_sgn(wpr)"
   ]
  },
  {
   "cell_type": "code",
   "execution_count": 9,
   "metadata": {},
   "outputs": [],
   "source": [
    "wpr = wpr.iloc[:,0:-1]"
   ]
  },
  {
   "cell_type": "code",
   "execution_count": 10,
   "metadata": {},
   "outputs": [
    {
     "name": "stderr",
     "output_type": "stream",
     "text": [
      "100%|██████████| 10000/10000 [00:10<00:00, 936.68it/s]\n"
     ]
    }
   ],
   "source": [
    "qcd = preprocess(qcd)"
   ]
  },
  {
   "cell_type": "code",
   "execution_count": 11,
   "metadata": {},
   "outputs": [
    {
     "name": "stderr",
     "output_type": "stream",
     "text": [
      "100%|██████████| 4450/4450 [00:04<00:00, 940.95it/s]\n"
     ]
    }
   ],
   "source": [
    "wpr = preprocess(wpr)"
   ]
  },
  {
   "cell_type": "code",
   "execution_count": 12,
   "metadata": {},
   "outputs": [
    {
     "name": "stderr",
     "output_type": "stream",
     "text": [
      "100%|██████████| 10000/10000 [00:10<00:00, 968.76it/s]\n"
     ]
    }
   ],
   "source": [
    "data = preprocess(data)"
   ]
  },
  {
   "cell_type": "code",
   "execution_count": 13,
   "metadata": {},
   "outputs": [],
   "source": [
    "# Actually run\n",
    "# (this may take a few minutes)\n",
    "out_qcd = run(qcd)"
   ]
  },
  {
   "cell_type": "code",
   "execution_count": 14,
   "metadata": {},
   "outputs": [],
   "source": [
    "out_sig = run(wpr)"
   ]
  },
  {
   "cell_type": "code",
   "execution_count": 15,
   "metadata": {},
   "outputs": [],
   "source": [
    "out_data = run(data)"
   ]
  },
  {
   "cell_type": "code",
   "execution_count": 16,
   "metadata": {},
   "outputs": [
    {
     "data": {
      "text/plain": [
       "<matplotlib.legend.Legend at 0x7f47cb398978>"
      ]
     },
     "execution_count": 16,
     "metadata": {},
     "output_type": "execute_result"
    },
    {
     "data": {
      "image/png": "[encoded data removed]",
      "text/plain": [
       "<Figure size 432x288 with 1 Axes>"
      ]
     },
     "metadata": {
      "needs_background": "light"
     },
     "output_type": "display_data"
    }
   ],
   "source": [
    "# Extract the leading dijet mass for signal..\n",
    "dijet_m_sig = []\n",
    "for evt in out_sig:\n",
    "    dijet_m_sig.append( (evt[0]+evt[1]).m())\n",
    "\n",
    "# ..and background\n",
    "dijet_m_qcd = []\n",
    "for evt in out_qcd:\n",
    "    dijet_m_qcd.append( (evt[0]+evt[1]).m())\n",
    "    \n",
    "# ..and data\n",
    "dijet_m_data = []\n",
    "for evt in out_data:\n",
    "    dijet_m_data.append( (evt[0]+evt[1]).m())    \n",
    "\n",
    "# and plot\n",
    "_ = plt.hist(np.array(dijet_m_sig)*1e-3,label='Signal',bins=60,histtype='step')\n",
    "_ = plt.hist(np.array(dijet_m_qcd)*1e-3,label='QCD',bins=60,histtype='step')\n",
    "_ = plt.hist(np.array(dijet_m_data)*1e-3,label='Data',bins=60,histtype='step')\n",
    "\n",
    "plt.legend(loc='best')"
   ]
  },
  {
   "cell_type": "code",
   "execution_count": null,
   "metadata": {},
   "outputs": [],
   "source": []
  }
 ],
 "metadata": {
  "kernelspec": {
   "display_name": "Python 3",
   "language": "python",
   "name": "python3"
  },
  "language_info": {
   "codemirror_mode": {
    "name": "ipython",
    "version": 3
   },
   "file_extension": ".py",
   "mimetype": "text/x-python",
   "name": "python",
   "nbconvert_exporter": "python",
   "pygments_lexer": "ipython3",
   "version": "3.6.7"
  }
 },
 "nbformat": 4,
 "nbformat_minor": 2
}
